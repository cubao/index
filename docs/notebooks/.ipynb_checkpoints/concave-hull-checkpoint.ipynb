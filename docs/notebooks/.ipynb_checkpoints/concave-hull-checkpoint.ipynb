{
 "cells": [
  {
   "cell_type": "markdown",
   "id": "c304c08a-204b-4113-b203-1ae76c14f9b2",
   "metadata": {},
   "source": [
    "[concave-hull](https://concave-hull.readthedocs.io/): A very fast 2D concave hull algorithm.\n",
    "\n",
    "Install: `pip install -U concave_hull`"
   ]
  },
  {
   "cell_type": "markdown",
   "id": "571a3d72-79fd-478e-b72b-9c7fa3f30aaa",
   "metadata": {},
   "source": [
    "## Simple usage"
   ]
  },
  {
   "cell_type": "code",
   "execution_count": 3,
   "id": "fbc23c16-9596-4307-9226-0b8c2cf1def9",
   "metadata": {},
   "outputs": [
    {
     "name": "stdout",
     "output_type": "stream",
     "text": [
      "(318, 2) (281, 2)\n"
     ]
    }
   ],
   "source": [
    "from concave_hull import concave_hull\n",
    "\n",
    "hull = concave_hull(coords, length_threshold=100.0, is_wgs84=True)\n",
    "print(coords.shape, hull.shape)"
   ]
  },
  {
   "cell_type": "markdown",
   "id": "5818a657-4831-428f-9a44-0f3bdc5ce1c2",
   "metadata": {},
   "source": [
    "## Make it interactive"
   ]
  },
  {
   "cell_type": "code",
   "execution_count": 7,
   "id": "d0ec51df-f8cd-46c1-b57b-d99d6e12508e",
   "metadata": {},
   "outputs": [
    {
     "data": {
      "application/vnd.jupyter.widget-view+json": {
       "model_id": "2f90eaa8042c41fd9b3075a837f3d805",
       "version_major": 2,
       "version_minor": 0
      },
      "text/plain": [
       "IntSlider(value=100, max=10000, min=10, step=10)"
      ]
     },
     "metadata": {},
     "output_type": "display_data"
    }
   ],
   "source": [
    "import ipywidgets as widgets\n",
    "slider = widgets.IntSlider(100, min=10, max=10000, step=10)\n",
    "slider"
   ]
  },
  {
   "cell_type": "code",
   "execution_count": null,
   "id": "5620feb5-8b26-44bd-b143-b43afbad8d4a",
   "metadata": {},
   "outputs": [],
   "source": [
    "import json\n",
    "import numpy as np\n",
    "with open('songjiang.json', encoding='utf8') as f:\n",
    "    feature = json.load(f)\n",
    "\n",
    "coords = np.array(feature['geometry']['coordinates'][0])\n",
    "print(coords.shape)\n",
    "\n",
    "from IPython.display import GeoJSON\n",
    "GeoJSON(feature)"
   ]
  }
 ],
 "metadata": {
  "kernelspec": {
   "display_name": "Python 3 (ipykernel)",
   "language": "python",
   "name": "python3"
  },
  "language_info": {
   "codemirror_mode": {
    "name": "ipython",
    "version": 3
   },
   "file_extension": ".py",
   "mimetype": "text/x-python",
   "name": "python",
   "nbconvert_exporter": "python",
   "pygments_lexer": "ipython3",
   "version": "3.9.13"
  }
 },
 "nbformat": 4,
 "nbformat_minor": 5
}
