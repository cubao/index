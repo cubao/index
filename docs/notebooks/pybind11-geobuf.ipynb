{
 "cells": [
  {
   "cell_type": "code",
   "execution_count": 1,
   "id": "dafb6830-837e-4b1f-b469-0833776d2b74",
   "metadata": {},
   "outputs": [
    {
     "name": "stdout",
     "output_type": "stream",
     "text": [
      "0.0.9\n"
     ]
    }
   ],
   "source": [
    "# https://geobuf-cpp.readthedocs.io/en/latest/code/\n",
    "# pip install -U pybind11-geobuf\n",
    "\n",
    "from pybind11_geobuf import Encoder, Decoder, geojson, rapidjson, __version__\n",
    "\n",
    "print(__version__)"
   ]
  },
  {
   "cell_type": "code",
   "execution_count": 2,
   "id": "f8e93d28-7963-43fd-b34c-7563bd6b5958",
   "metadata": {},
   "outputs": [],
   "source": [
    "def sample_geojson():\n",
    "    geojson = {\n",
    "        \"type\": \"Feature\",\n",
    "        \"properties\": {\n",
    "            \"string\": \"string\",\n",
    "            \"int\": 42,\n",
    "            \"int2\": -101,\n",
    "            \"double\": 3.141592653,\n",
    "            \"list\": [\"a\", \"list\", \"is\", \"a\", \"list\"],\n",
    "            \"dict\": {\"key\": 42, \"value\": 3.14},\n",
    "        },\n",
    "        \"geometry\": {\n",
    "            \"coordinates\": [\n",
    "                [120.40317479950272, 31.416966084052177, 1.111111],\n",
    "                [120.28451900911591, 31.30578266928819, 2.22],\n",
    "                [120.35592249359615, 31.21781895672254, 3.3333333333333],\n",
    "                [120.67093786630113, 31.299502266522722, 4.4],\n",
    "            ],\n",
    "            \"type\": \"LineString\",\n",
    "            \"extra_key\": \"extra_value\",\n",
    "        },\n",
    "        \"my_key\": \"my_value\",\n",
    "    }\n",
    "    return geojson"
   ]
  },
  {
   "cell_type": "code",
   "execution_count": 3,
   "id": "2624cafd-1839-4bc6-9a97-f4fcf3eeee0c",
   "metadata": {},
   "outputs": [
    {
     "name": "stdout",
     "output_type": "stream",
     "text": [
      "{'type': 'Feature', 'geometry': {'type': 'LineString', 'coordinates': [[120.40317479950272, 31.416966084052177, 1.111111], [120.28451900911591, 31.30578266928819, 2.22], [120.35592249359615, 31.21781895672254, 3.3333333333333], [120.67093786630113, 31.299502266522722, 4.4]], 'extra_key': 'extra_value'}, 'properties': {'dict': {'value': 3.14, 'key': 42}, 'list': ['a', 'list', 'is', 'a', 'list'], 'double': 3.141592653, 'int2': -101, 'int': 42, 'string': 'string'}, 'my_key': 'my_value'}\n",
      "[[120.4031748   31.41696608   1.111111  ]\n",
      " [120.28451901  31.30578267   2.22      ]\n",
      " [120.35592249  31.21781896   3.33333333]\n",
      " [120.67093787  31.29950227   4.4       ]]\n",
      "<_pybind11_geobuf.geojson.Geometry object at 0x7fe82c34caf0>\n",
      "b'\\n\\x04dict\\n\\x06double\\n\\textra_key\\n\\x03int\\n\\x04int2\\n\\x04list\\n\\x06my_key\\n\\x06string\\x10\\x03\\x18\\x08*\\xc1\\x01\\nI\\x08\\x02\\x1a2\\xd0\\xa8\\xc5\\xdaY\\xc0\\xf1\\x93\\xb4\\x17\\xf8\\xae\\xfbi\\xd5\\xb7\\xa8\\x0b\\x89\\x9c\\xcd\\n\\x88\\x9f\\xe0i\\xf8\\xcf\\xe7\\x06\\xa5\\xe3\\xb1\\x08\\xaa\\xbf\\x96j\\xc4\\xb3\\x85\\x1e\\x96\\x8e\\xe5\\x07\\xd6\\xea\\xdcej\\r\\n\\x0bextra_valuez\\x02\\x02\\x00j\\x192\\x17{\"value\":3.14,\"key\":42}j\\x1e2\\x1c[\"a\",\"list\",\"is\",\"a\",\"list\"]j\\t\\x118\\xe9/T\\xfb!\\t@j\\x02 ej\\x02\\x18*j\\x08\\n\\x06stringr\\x0c\\x00\\x00\\x05\\x01\\x01\\x02\\x04\\x03\\x03\\x04\\x07\\x05j\\n\\n\\x08my_valuez\\x02\\x06\\x00'\n",
      "{'type': 'Feature', 'geometry': {'type': 'LineString', 'coordinates': [[120.4031748, 31.41696608, 1.111111], [120.28451901, 31.30578267, 2.22], [120.35592249, 31.21781896, 3.33333333], [120.67093787, 31.29950227, 4.4]], 'extra_key': 'extra_value'}, 'properties': {'string': 'string', 'int': 42, 'int2': -101, 'double': 3.141592653, 'list': ['a', 'list', 'is', 'a', 'list'], 'dict': {'key': 42, 'value': 3.14}}, 'my_key': 'my_value'}\n",
      "[[120.4031748   31.41696608   1.111111  ]\n",
      " [120.28451901  31.30578267   2.22      ]\n",
      " [120.35592249  31.21781896   3.33333333]\n",
      " [120.67093787  31.29950227   4.4       ]]\n",
      "[[120.403175  31.416966   1.111111]\n",
      " [120.284519  31.305783   2.22    ]\n",
      " [120.355922  31.217819   3.333333]\n",
      " [120.670938  31.299502   4.4     ]]\n",
      "[[120.403175  31.416966   0.      ]\n",
      " [120.284519  31.305783   0.      ]\n",
      " [120.355922  31.217819   0.      ]\n",
      " [120.670938  31.299502   0.      ]]\n"
     ]
    }
   ],
   "source": [
    "g = geojson.Feature().from_rapidjson(sample_geojson())\n",
    "print(g())\n",
    "\n",
    "print(g.as_numpy())\n",
    "print(g.geometry())\n",
    "\n",
    "pbf = g.to_geobuf()\n",
    "print(pbf)\n",
    "gg = geojson.Feature().from_geobuf(pbf)\n",
    "print(gg())\n",
    "print(gg.as_numpy())\n",
    "\n",
    "gg = geojson.Feature().from_geobuf(g.to_geobuf(precision=6))\n",
    "print(gg.as_numpy())\n",
    "gg = geojson.Feature().from_geobuf(g.to_geobuf(precision=6, only_xy=True))\n",
    "print(gg.as_numpy())"
   ]
  },
  {
   "cell_type": "code",
   "execution_count": 4,
   "id": "add4b993-e625-46d8-bb22-84fd35a0980f",
   "metadata": {},
   "outputs": [
    {
     "name": "stdout",
     "output_type": "stream",
     "text": [
      "<class 'str'> 365500\n"
     ]
    }
   ],
   "source": [
    "decoder = Decoder()\n",
    "with open('cloverleaf.pbf', 'rb') as f:\n",
    "    encoded = f.read()\n",
    "ret = decoder.decode(encoded)\n",
    "\n",
    "print(type(ret), len(ret))\n",
    "assert ret == decoder.decode(encoded)"
   ]
  },
  {
   "cell_type": "code",
   "execution_count": 5,
   "id": "8334f5b4-2206-4745-b297-a8a9cc5bb99c",
   "metadata": {},
   "outputs": [
    {
     "name": "stdout",
     "output_type": "stream",
     "text": [
      "<class '_pybind11_geobuf.rapidjson'> <class 'dict'>\n"
     ]
    }
   ],
   "source": [
    "ret = decoder.decode_to_rapidjson(encoded)\n",
    "print(type(ret), type(ret()))"
   ]
  },
  {
   "cell_type": "code",
   "execution_count": 6,
   "id": "ab9cf9f2-351e-47fa-9402-96c8a61519b1",
   "metadata": {},
   "outputs": [],
   "source": [
    "geojson = decoder.decode_to_rapidjson(encoded)()\n",
    "assert geojson['type'] == 'FeatureCollection'"
   ]
  },
  {
   "cell_type": "code",
   "execution_count": 7,
   "id": "27afb293-d295-4a4f-88ef-92d89f06ac15",
   "metadata": {},
   "outputs": [],
   "source": [
    "assert 8 == decoder.precision()"
   ]
  },
  {
   "cell_type": "code",
   "execution_count": 8,
   "id": "3d2e92ea-00da-4f66-8923-e910640138c0",
   "metadata": {},
   "outputs": [
    {
     "name": "stdout",
     "output_type": "stream",
     "text": [
      "b'\\x18\\x002\\r\\x08\\x04\\x1a\\t\\xc8\\x01\\x00\\x02\\x00\\x00\\x02\\x01\\x00'\n",
      "3: 0\n",
      "6: \n",
      "  1: 4\n",
      "  3: 200,0,2,0,0,2,1,0\n",
      "\n"
     ]
    }
   ],
   "source": [
    "encoder = Encoder(max_precision=10**8)\n",
    "encoded = encoder.encode({\n",
    "    \"type\": \"Polygon\",\n",
    "    \"coordinates\": [[[100.0, 0.0], [101.0, 0.0], [101.0, 1.0], [100.0, 1.0], [100.0, 0.0]]]\n",
    "})\n",
    "\n",
    "print(encoded)\n",
    "\n",
    "from pybind11_geobuf import pbf_decode\n",
    "print(pbf_decode(encoded))"
   ]
  },
  {
   "cell_type": "code",
   "execution_count": 9,
   "id": "f15ce0cd-45c8-4f2c-ba7f-a9564b021377",
   "metadata": {},
   "outputs": [
    {
     "name": "stdout",
     "output_type": "stream",
     "text": [
      "{'type': 'Polygon', 'coordinates': [[[100.0, 0.0, 0.0], [101.0, 0.0, 0.0], [101.0, 1.0, 0.0], [100.0, 1.0, 0.0], [100.0, 0.0, 0.0]]]}\n"
     ]
    }
   ],
   "source": [
    "print(decoder.decode_to_rapidjson(encoded)())"
   ]
  },
  {
   "cell_type": "code",
   "execution_count": null,
   "id": "aa3d7815-77e6-4d3c-9119-f9c4f16fc496",
   "metadata": {},
   "outputs": [],
   "source": []
  }
 ],
 "metadata": {
  "kernelspec": {
   "display_name": "Python 3 (ipykernel)",
   "language": "python",
   "name": "python3"
  },
  "language_info": {
   "codemirror_mode": {
    "name": "ipython",
    "version": 3
   },
   "file_extension": ".py",
   "mimetype": "text/x-python",
   "name": "python",
   "nbconvert_exporter": "python",
   "pygments_lexer": "ipython3",
   "version": "3.9.13"
  }
 },
 "nbformat": 4,
 "nbformat_minor": 5
}
