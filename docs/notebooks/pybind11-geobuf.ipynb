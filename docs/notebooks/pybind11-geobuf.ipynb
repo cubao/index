{
 "cells": [
  {
   "cell_type": "code",
   "execution_count": 2,
   "id": "add4b993-e625-46d8-bb22-84fd35a0980f",
   "metadata": {},
   "outputs": [
    {
     "name": "stdout",
     "output_type": "stream",
     "text": [
      "<class 'str'> 365500\n"
     ]
    }
   ],
   "source": [
    "decoder = Decoder()\n",
    "with open('cloverleaf.pbf', 'rb') as f:\n",
    "    encoded = f.read()\n",
    "ret = decoder.decode(encoded)\n",
    "\n",
    "print(type(ret), len(ret))\n",
    "assert ret == decoder.decode(encoded)"
   ]
  },
  {
   "cell_type": "code",
   "execution_count": 3,
   "id": "8334f5b4-2206-4745-b297-a8a9cc5bb99c",
   "metadata": {},
   "outputs": [
    {
     "name": "stdout",
     "output_type": "stream",
     "text": [
      "<class '_pybind11_geobuf.rapidjson'> <class 'dict'>\n"
     ]
    }
   ],
   "source": [
    "ret = decoder.decode_to_rapidjson(encoded)\n",
    "print(type(ret), type(ret()))"
   ]
  },
  {
   "cell_type": "code",
   "execution_count": 4,
   "id": "ab9cf9f2-351e-47fa-9402-96c8a61519b1",
   "metadata": {},
   "outputs": [],
   "source": [
    "geojson = decoder.decode_to_rapidjson(encoded)()\n",
    "assert geojson['type'] == 'FeatureCollection'"
   ]
  },
  {
   "cell_type": "code",
   "execution_count": 5,
   "id": "27afb293-d295-4a4f-88ef-92d89f06ac15",
   "metadata": {},
   "outputs": [],
   "source": [
    "assert 8 == decoder.precision()"
   ]
  },
  {
   "cell_type": "code",
   "execution_count": 6,
   "id": "3d2e92ea-00da-4f66-8923-e910640138c0",
   "metadata": {},
   "outputs": [
    {
     "name": "stdout",
     "output_type": "stream",
     "text": [
      "b'\\x18\\x002\\r\\x08\\x04\\x1a\\t\\xc8\\x01\\x00\\x02\\x00\\x00\\x02\\x01\\x00'\n",
      "3: 0\n",
      "6: \n",
      "  1: 4\n",
      "  3: 200,0,2,0,0,2,1,0\n",
      "\n"
     ]
    }
   ],
   "source": [
    "encoder = Encoder(max_precision=10**8)\n",
    "encoded = encoder.encode({\n",
    "    \"type\": \"Polygon\",\n",
    "    \"coordinates\": [[[100.0, 0.0], [101.0, 0.0], [101.0, 1.0], [100.0, 1.0], [100.0, 0.0]]]\n",
    "})\n",
    "\n",
    "print(encoded)\n",
    "\n",
    "from pybind11_geobuf import pbf_decode\n",
    "print(pbf_decode(encoded))"
   ]
  },
  {
   "cell_type": "code",
   "execution_count": 7,
   "id": "f15ce0cd-45c8-4f2c-ba7f-a9564b021377",
   "metadata": {},
   "outputs": [
    {
     "name": "stdout",
     "output_type": "stream",
     "text": [
      "{'type': 'Polygon', 'coordinates': [[[100.0, 0.0], [101.0, 0.0], [101.0, 1.0], [100.0, 1.0], [100.0, 0.0]]]}\n"
     ]
    }
   ],
   "source": [
    "print(decoder.decode_to_rapidjson(encoded)())"
   ]
  },
  {
   "cell_type": "code",
   "execution_count": null,
   "id": "aa3d7815-77e6-4d3c-9119-f9c4f16fc496",
   "metadata": {},
   "outputs": [],
   "source": []
  }
 ],
 "metadata": {
  "kernelspec": {
   "display_name": "Python 3 (ipykernel)",
   "language": "python",
   "name": "python3"
  },
  "language_info": {
   "codemirror_mode": {
    "name": "ipython",
    "version": 3
   },
   "file_extension": ".py",
   "mimetype": "text/x-python",
   "name": "python",
   "nbconvert_exporter": "python",
   "pygments_lexer": "ipython3",
   "version": "3.9.13"
  }
 },
 "nbformat": 4,
 "nbformat_minor": 5
}
