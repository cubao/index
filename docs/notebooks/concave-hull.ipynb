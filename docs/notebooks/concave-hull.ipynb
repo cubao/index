{
 "cells": [
  {
   "cell_type": "markdown",
   "id": "c304c08a-204b-4113-b203-1ae76c14f9b2",
   "metadata": {},
   "source": [
    "[concave-hull](https://concave-hull.readthedocs.io/): A very fast 2D concave hull algorithm.\n",
    "\n",
    "Install: `pip install -U concave_hull`"
   ]
  },
  {
   "cell_type": "markdown",
   "id": "571a3d72-79fd-478e-b72b-9c7fa3f30aaa",
   "metadata": {},
   "source": [
    "## Simple usage"
   ]
  },
  {
   "cell_type": "code",
   "execution_count": 1,
   "id": "fbc23c16-9596-4307-9226-0b8c2cf1def9",
   "metadata": {},
   "outputs": [
    {
     "name": "stdout",
     "output_type": "stream",
     "text": [
      "loadded polygon, #coords: 318\n",
      "thresh:100.0, #hull: 281\n"
     ]
    }
   ],
   "source": [
    "import json\n",
    "import numpy as np\n",
    "with open('songjiang.json', encoding='utf8') as f:\n",
    "    feature = json.load(f)\n",
    "coords = np.array(feature['geometry']['coordinates'][0])\n",
    "print(f'loadded polygon, #coords: {len(coords)}')\n",
    "\n",
    "from concave_hull import concave_hull\n",
    "thresh = 100.0\n",
    "hull = concave_hull(coords, length_threshold=thresh, is_wgs84=True)\n",
    "print(f'thresh:{thresh}, #hull: {len(hull)}')"
   ]
  },
  {
   "cell_type": "markdown",
   "id": "5818a657-4831-428f-9a44-0f3bdc5ce1c2",
   "metadata": {},
   "source": [
    "## Make it interactive"
   ]
  },
  {
   "cell_type": "code",
   "execution_count": 2,
   "id": "d0ec51df-f8cd-46c1-b57b-d99d6e12508e",
   "metadata": {},
   "outputs": [
    {
     "name": "stdout",
     "output_type": "stream",
     "text": [
      "#coords: 318\n"
     ]
    },
    {
     "data": {
      "application/vnd.jupyter.widget-view+json": {
       "model_id": "91023e5886f04bd8b4c5072378c43b92",
       "version_major": 2,
       "version_minor": 0
      },
      "text/plain": [
       "IntSlider(value=100, max=10000, min=10, step=10)"
      ]
     },
     "metadata": {},
     "output_type": "display_data"
    },
    {
     "data": {
      "application/vnd.jupyter.widget-view+json": {
       "model_id": "c2447823cd07419583ba6fe06e90b729",
       "version_major": 2,
       "version_minor": 0
      },
      "text/plain": [
       "Output()"
      ]
     },
     "metadata": {},
     "output_type": "display_data"
    }
   ],
   "source": [
    "import ipywidgets as widgets\n",
    "slider = widgets.IntSlider(100, min=10, max=10000, step=10)\n",
    "output = widgets.Output()\n",
    "\n",
    "def handle_slider_change(change):\n",
    "    with output:\n",
    "        thresh = change.new\n",
    "        hull = concave_hull(coords, length_threshold=thresh, is_wgs84=True)\n",
    "        print(f'(thresh:{thresh} -> #hull:{len(hull)})', end='; ')\n",
    "\n",
    "slider.observe(handle_slider_change, names='value')\n",
    "\n",
    "print(f'#coords: {len(coords)}')\n",
    "display(slider, output)\n"
   ]
  },
  {
   "cell_type": "code",
   "execution_count": 3,
   "id": "3d213c2c-ebd3-4e12-8290-7d74e434bf16",
   "metadata": {},
   "outputs": [],
   "source": [
    "from ipyleaflet import Map, Polygon, basemaps, WidgetControl\n",
    "\n",
    "def show_map(*, thresh, m=None):\n",
    "    if m is None:\n",
    "        center = [121.2350, 31.0184]\n",
    "        m = Map(\n",
    "            center=center[::-1],\n",
    "            zoom=10,\n",
    "            scroll_wheel_zoom=True,\n",
    "            max_zoom=30,\n",
    "            basemap=basemaps.Gaode.Normal,\n",
    "        )\n",
    "        polygon = Polygon(\n",
    "            locations=[[lla[1], lla[0]] for lla in coords],\n",
    "            color=\"green\",\n",
    "            fill_color=\"green\",\n",
    "        )\n",
    "        # m.add_layer(polygon)\n",
    "\n",
    "    hull = concave_hull(coords, length_threshold=thresh, is_wgs84=True)\n",
    "    hull_polygon = Polygon(\n",
    "        locations=[[lla[1], lla[0]] for lla in hull],\n",
    "        color=\"red\",\n",
    "        fill_color=\"red\",\n",
    "    )\n",
    "    # m.add_layer(hull_polygon)\n",
    "    m.layers = (m.layers[0], hull_polygon)\n",
    "    return m\n",
    "\n",
    "# show_map(thresh=1000)"
   ]
  },
  {
   "cell_type": "code",
   "execution_count": 4,
   "id": "5620feb5-8b26-44bd-b143-b43afbad8d4a",
   "metadata": {},
   "outputs": [
    {
     "data": {
      "application/vnd.jupyter.widget-view+json": {
       "model_id": "acbe16e108f54f54a5a16d69c3ff21ba",
       "version_major": 2,
       "version_minor": 0
      },
      "text/plain": [
       "IntSlider(value=100, max=10000, min=10, step=10)"
      ]
     },
     "metadata": {},
     "output_type": "display_data"
    },
    {
     "data": {
      "application/vnd.jupyter.widget-view+json": {
       "model_id": "bb1ff0469b0e42b2af9e18d1a0e9d4ab",
       "version_major": 2,
       "version_minor": 0
      },
      "text/plain": [
       "Output()"
      ]
     },
     "metadata": {},
     "output_type": "display_data"
    }
   ],
   "source": [
    "import ipywidgets as widgets\n",
    "slider = widgets.IntSlider(100, min=10, max=10000, step=10)\n",
    "output = widgets.Output()\n",
    "\n",
    "m = show_map(thresh=slider.value)\n",
    "# display(m)\n",
    "\n",
    "def handle_slider_change(change):\n",
    "    with output:\n",
    "        output.clear_output()\n",
    "        display(show_map(thresh=change.new, m=m))\n",
    "slider.observe(handle_slider_change, names='value')\n",
    "display(slider, output)\n"
   ]
  },
  {
   "cell_type": "code",
   "execution_count": null,
   "id": "be0551be-771e-42f1-a40a-81cc34e5d62e",
   "metadata": {},
   "outputs": [],
   "source": []
  }
 ],
 "metadata": {
  "kernelspec": {
   "display_name": "Python 3 (ipykernel)",
   "language": "python",
   "name": "python3"
  },
  "language_info": {
   "codemirror_mode": {
    "name": "ipython",
    "version": 3
   },
   "file_extension": ".py",
   "mimetype": "text/x-python",
   "name": "python",
   "nbconvert_exporter": "python",
   "pygments_lexer": "ipython3",
   "version": "3.10.6"
  }
 },
 "nbformat": 4,
 "nbformat_minor": 5
}
