{
 "cells": [
  {
   "cell_type": "markdown",
   "id": "cd6221b6-fadf-4593-98a7-b3c34d1f9942",
   "metadata": {},
   "source": [
    "[polyline-ruler](https://polyline-ruler.readthedocs.io/): Init from mapbox/cheap-ruler but more than that.\n",
    "\n",
    "Install: `pip install -U polyline-ruler`"
   ]
  },
  {
   "cell_type": "markdown",
   "id": "32a090b2-c36c-4fc2-a207-af1d8ab748e3",
   "metadata": {},
   "source": [
    "## What is a ruler and what you can do with it\n",
    "\n",
    "`polyline-ruler` originates from [mapbox/cheap-ruler](https://github.com/mapbox/cheap-ruler),\n",
    "which provides fast approximations for common geodesic measurements:\n",
    "\n",
    "> A collection of very fast approximations to common geodesic measurements.\n",
    "> Useful for performance-sensitive code that measures things on a city scale. Can\n",
    "> be an order of magnitude faster than corresponding Turf methods.\n",
    ">\n",
    "> The approximations are based on the WGS84 ellipsoid model of the Earth,\n",
    "> projecting coordinates to a flat surface that approximates the ellipsoid around\n",
    "> a certain latitude. For distances under 500 kilometers and not on the poles, the\n",
    "> results are very precise — within 0.1% margin of error compared to Vincenti\n",
    "> formulas, and usually much less for shorter distances.\n",
    "\n",
    "Which means, you can quickly get distance between Shanghai and Suzhou, like this:"
   ]
  },
  {
   "cell_type": "code",
   "execution_count": 1,
   "id": "6e32f494-f02f-4725-82a4-93cd41660d2b",
   "metadata": {},
   "outputs": [
    {
     "name": "stdout",
     "output_type": "stream",
     "text": [
      "distance between Shanghai & Suzhou: 78.6km (static method)\n",
      "or construct PolylineRuler first, then use member function: 78.6km (member function)\n"
     ]
    }
   ],
   "source": [
    "from polyline_ruler import PolylineRuler\n",
    "\n",
    "gps_shanghai = [121.4952, 31.2419, 0.0]\n",
    "gps_suzhou = [120.6747, 31.3189, 0.0]\n",
    "distance = PolylineRuler._distance(gps_shanghai, gps_suzhou, is_wgs84=True)\n",
    "print(f'distance between Shanghai & Suzhou: {distance/1000:.1f}km (static method)')\n",
    "\n",
    "ruler = PolylineRuler([gps_shanghai, gps_suzhou], is_wgs84=True)\n",
    "\n",
    "print(f'or construct PolylineRuler first, then use member function: {ruler.length()/1e3:.1f}km (member function)')"
   ]
  },
  {
   "cell_type": "code",
   "execution_count": 2,
   "id": "7913d04a-c049-4200-881e-09cfecff1659",
   "metadata": {},
   "outputs": [
    {
     "data": {
      "application/vnd.jupyter.widget-view+json": {
       "model_id": "d702f94641754809b7143228ec76b460",
       "version_major": 2,
       "version_minor": 0
      },
      "text/plain": [
       "Map(center=[31.2419, 121.4952], controls=(ZoomControl(options=['position', 'zoom_in_text', 'zoom_in_title', 'z…"
      ]
     },
     "metadata": {},
     "output_type": "display_data"
    }
   ],
   "source": [
    "from ipyleaflet import Map, GeoJSON, basemaps, WidgetControl\n",
    "from ipywidgets import Layout\n",
    "import numpy as np\n",
    "\n",
    "def show_geojson(*, geojson, center = None, zoom=10, layout=None, basemap=basemaps.Esri.WorldStreetMap):\n",
    "    if center is None:\n",
    "        coords = np.array([np.array(f['geometry']['coordinates']).reshape(-1)[:2] for f in geojson['features']])\n",
    "        center = coords.mean(axis=0)\n",
    "    lon, lat = center[:2]\n",
    "    m = Map(\n",
    "        center=[lat, lon],\n",
    "        zoom=zoom,\n",
    "        scroll_wheel_zoom=True,\n",
    "        max_zoom=30,\n",
    "        basemap=basemap,\n",
    "    )\n",
    "    if layout is not None:\n",
    "        m.layout = layout\n",
    "    m.add_layer(GeoJSON(data=geojson))\n",
    "    return m\n",
    "\n",
    "show_geojson(geojson={'type': 'FeatureCollection', 'features': [\n",
    "    {\n",
    "        'type': 'Feature',\n",
    "        'geometry': {'type': 'LineString', 'coordinates': [gps_shanghai, gps_suzhou]},\n",
    "        'properties': {'distance': distance},\n",
    "    }\n",
    "]}, zoom=9)"
   ]
  },
  {
   "cell_type": "code",
   "execution_count": 3,
   "id": "cabc3f17-268c-4d64-8248-e125f70c1ca1",
   "metadata": {},
   "outputs": [
    {
     "data": {
      "application/vnd.jupyter.widget-view+json": {
       "model_id": "4028a00daee74d8aa55cd9452e626b94",
       "version_major": 2,
       "version_minor": 0
      },
      "text/plain": [
       "Map(center=[31.4213, 120.735122], controls=(ZoomControl(options=['position', 'zoom_in_text', 'zoom_in_title', …"
      ]
     },
     "metadata": {},
     "output_type": "display_data"
    }
   ],
   "source": [
    "beauty_feet = [\n",
    "    [120.74827946135764, 31.448204795366777],\n",
    "    [120.74620885411491, 31.444671808351146],\n",
    "    [120.74783575980638, 31.442526715525744],\n",
    "    [120.74162393807808, 31.4339458532],\n",
    "    [120.73940543031875, 31.430664727645606],\n",
    "    [120.73629951945532, 31.423597297964193],\n",
    "    [120.73378521065985, 31.420568236465343],\n",
    "    [120.7287565930717, 31.417539077136567],\n",
    "    [120.72431957755157, 31.416529335620908],\n",
    "    [120.72313637341284, 31.41539336342359],\n",
    "    [120.71529764599455, 31.41362626821943],\n",
    "    [120.71204383461452, 31.40946084068321],\n",
    "    [120.7142623423739, 31.403022998034828],\n",
    "    [120.71056482944107, 31.392544780517753],\n",
    "    [120.71263543668385, 31.388125904492398],\n",
    "    [120.7144102428905, 31.38698958847614],\n",
    "    [120.71722035272069, 31.391787273682],\n",
    "    [120.71500184495983, 31.395322253295006],\n",
    "    [120.73511631531659, 31.419179883916897],\n",
    "    [120.74103233600874, 31.423723506736835],\n",
    "    [120.74443404790827, 31.424102132035657],\n",
    "    [120.74620885411491, 31.427888300943067],\n",
    "    [120.74931476497972, 31.428519314231295],\n",
    "    [120.7589282986047, 31.439119702465206],\n",
    "    [120.76144260740017, 31.444040903794075],\n",
    "    [120.75108957118778, 31.448330971010606]\n",
    "]\n",
    "\n",
    "show_geojson(geojson={'type': 'FeatureCollection', 'features': [\n",
    "    {\n",
    "        'type': 'Feature',\n",
    "        'geometry': {'type': 'LineString', 'coordinates': beauty_feet},\n",
    "        'properties': {'distance': distance},\n",
    "    }\n",
    "]}, zoom=13, center=[120.735122, 31.4213], layout=Layout(width='80%', height='800px'))\n"
   ]
  },
  {
   "cell_type": "code",
   "execution_count": 4,
   "id": "36975014-2279-4fef-8a98-a3ca5f161d0c",
   "metadata": {},
   "outputs": [],
   "source": [
    "ruler = PolylineRuler(np.c_[beauty_feet, np.zeros(len(beauty_feet))], is_wgs84=True)"
   ]
  },
  {
   "cell_type": "code",
   "execution_count": 5,
   "id": "bda1f58c-385d-4628-b187-640e9c8d0146",
   "metadata": {},
   "outputs": [
    {
     "name": "stdout",
     "output_type": "stream",
     "text": [
      "{'N': 26,\n",
      " 'is_wgs84': True,\n",
      " 'length': 18042.970237876994,\n",
      " 'ranges': array([    0.        ,   438.39371091,   722.09042528,  1841.84479117,\n",
      "        2262.34694775,  3099.73384723,  3511.94406245,  4096.13828784,\n",
      "        4532.50404611,  4701.36361104,  5471.80115866,  6027.64874941,\n",
      "        6771.95703552,  7985.75141991,  8513.75899485,  8724.31722722,\n",
      "        9319.5691501 ,  9764.64655417, 13028.55274995, 13783.55654807,\n",
      "       14109.61893727, 14562.04879782, 14865.45712118, 16354.24121552,\n",
      "       16949.93602344, 18042.97023788]),\n",
      " 'ranges.shape': (26,),\n",
      " 'shape': (26, 3)}\n"
     ]
    }
   ],
   "source": [
    "# APIs:\n",
    "# https://github.com/cubao/polyline-ruler/blob/master/src/polyline_ruler.hpp\n",
    "\n",
    "from pprint import pprint\n",
    "pprint({\n",
    "    'shape': ruler.polyline().shape,\n",
    "    'N': ruler.N(),\n",
    "    'is_wgs84': ruler.is_wgs84(),\n",
    "    'ranges': ruler.ranges(),\n",
    "    'ranges.shape': ruler.ranges().shape,\n",
    "    'length': ruler.length(),\n",
    "})\n",
    "\n",
    "\n"
   ]
  },
  {
   "cell_type": "code",
   "execution_count": 6,
   "id": "13f20bff-c1eb-4dca-9f1d-35d2a8802efb",
   "metadata": {},
   "outputs": [
    {
     "name": "stdout",
     "output_type": "stream",
     "text": [
      "Help on method range in module polyline_ruler:\n",
      "\n",
      "range(...) method of polyline_ruler.PolylineRuler instance\n",
      "    range(*args, **kwargs)\n",
      "    Overloaded function.\n",
      "    \n",
      "    1. range(self: polyline_ruler.PolylineRuler, segment_index: int) -> float\n",
      "    \n",
      "    2. range(self: polyline_ruler.PolylineRuler, *, segment_index: int, t: float) -> float\n",
      "\n",
      "0.0\n",
      "438.3937109139941\n",
      "219.19685545699704\n",
      "18042.970237876994 18042.970237876994\n"
     ]
    }
   ],
   "source": [
    "# range (mileage in meters) interpolation\n",
    "help(ruler.range)\n",
    "print(ruler.range(0)) # range of first point (always 0.0)\n",
    "print(ruler.range(1)) # range of second point (length of first segment)\n",
    "print(ruler.range(segment_index=0, t=0.5)) # middle of first segment\n",
    "print(ruler.length(), ruler.range(ruler.N() - 1)) # length of polyline"
   ]
  },
  {
   "cell_type": "code",
   "execution_count": 7,
   "id": "381a0019-9894-4cc8-b043-4086723171ab",
   "metadata": {},
   "outputs": [
    {
     "name": "stdout",
     "output_type": "stream",
     "text": [
      "[[-0.44895912 -0.8935523   0.        ]\n",
      " [ 0.54510663 -0.83836673  0.        ]\n",
      " [-0.52731437 -0.84967026  0.        ]\n",
      " [-0.50149443 -0.86516087  0.        ]\n",
      " [-0.35256258 -0.93578824  0.        ]\n",
      " [-0.57979338 -0.81476355  0.        ]\n",
      " [-0.81820992 -0.57491959  0.        ]\n",
      " [-0.96652629 -0.25656759  0.        ]\n",
      " [-0.66605087 -0.74590632  0.        ]\n",
      " [-0.96712255 -0.25431077  0.        ]\n",
      " [-0.55642936 -0.83089492  0.        ]\n",
      " [ 0.28332277 -0.95902461  0.        ]\n",
      " [-0.2895596  -0.95715999  0.        ]\n",
      " [ 0.37276143 -0.92792722  0.        ]\n",
      " [ 0.80122059 -0.59836909  0.        ]\n",
      " [ 0.44874113  0.89366179  0.        ]\n",
      " [-0.47380408  0.88063028  0.        ]\n",
      " [ 0.58579319  0.81046057  0.        ]\n",
      " [ 0.74482447  0.66726045  0.        ]\n",
      " [ 0.99167693  0.12875117  0.        ]\n",
      " [ 0.37288341  0.9278782   0.        ]\n",
      " [ 0.97304939  0.23059679  0.        ]\n",
      " [ 0.61379694  0.78946394  0.        ]\n",
      " [ 0.40120671  0.91598754  0.        ]\n",
      " [-0.9003417   0.43518367  0.        ]] (25, 3)\n",
      "[206.676922   146.96804966 211.82417663 210.09891997 200.64413419\n",
      " 215.43601144 234.90599886 255.13350781 221.76299614 255.26725097\n",
      " 213.8092218  163.54138119 196.83159168 158.11397732 126.75318138\n",
      "  26.66294468 331.71848782  35.85904525  48.14402443  82.60256705\n",
      "  21.89355517  76.66779001  37.86455558  23.65363746 295.79698158]\n"
     ]
    }
   ],
   "source": [
    "# dirs in ENU\n",
    "dirs = ruler.dirs()\n",
    "print(dirs, dirs.shape)\n",
    "\n",
    "dx = dirs[:, 0]\n",
    "dy = dirs[:, 1]\n",
    "heading = np.degrees(np.arctan2(dx, dy)) # https://en.wikipedia.org/wiki/Atan2\n",
    "heading[heading < 0] += 360.0\n",
    "# clockwise heading angle, north: 0, east:90, ...\n",
    "print(heading)"
   ]
  },
  {
   "cell_type": "code",
   "execution_count": 8,
   "id": "218f8336-0163-4020-9e9f-0cefc364df7c",
   "metadata": {},
   "outputs": [
    {
     "name": "stdout",
     "output_type": "stream",
     "text": [
      "438.3937109139941\n",
      "[-0.44895912 -0.8935523   0.        ]\n",
      "[120.74780714  31.4473989    0.        ]\n"
     ]
    }
   ],
   "source": [
    "print(ruler.range(1))\n",
    "print(ruler.dir(100)) # dir at range=100m, should be like first dir (heading=206.67922)\n",
    "print(ruler.along(100)) # postion at range=100m"
   ]
  },
  {
   "cell_type": "markdown",
   "id": "1b68c2f4-fcf4-4348-b339-ddbb6860b61a",
   "metadata": {},
   "source": [
    "![](ENU.jpg)"
   ]
  },
  {
   "cell_type": "markdown",
   "id": "4739ccdf-9285-49f3-a87d-89989e8c6c89",
   "metadata": {},
   "source": [
    "## arrows"
   ]
  },
  {
   "cell_type": "code",
   "execution_count": 9,
   "id": "839ee09f-b0da-4d16-9567-045479b4b11d",
   "metadata": {},
   "outputs": [
    {
     "data": {
      "application/vnd.jupyter.widget-view+json": {
       "model_id": "f09f8c5ff63a47b4903ef4f261cb81e6",
       "version_major": 2,
       "version_minor": 0
      },
      "text/plain": [
       "IntSlider(value=0, max=19042, min=-1000, step=10)"
      ]
     },
     "metadata": {},
     "output_type": "display_data"
    },
    {
     "data": {
      "application/vnd.jupyter.widget-view+json": {
       "model_id": "01100a7900a34c70b6cc9bd05f8d4e50",
       "version_major": 2,
       "version_minor": 0
      },
      "text/plain": [
       "Output()"
      ]
     },
     "metadata": {},
     "output_type": "display_data"
    }
   ],
   "source": [
    "from polyline_ruler.tf import ecef2lla\n",
    "\n",
    "'''\n",
    "           x\n",
    "           ^\n",
    "           |\n",
    "     y     |\n",
    "     <-----+\n",
    "'''\n",
    "def arrow():\n",
    "    return [\n",
    "        [0, -10, 0],\n",
    "        [200, -10, 0],\n",
    "        [200, -50, 0],\n",
    "        [300, 0, 0],\n",
    "        [200, 50, 0],\n",
    "        [200, 10, 0],\n",
    "        [0, 10, 0],\n",
    "    ]\n",
    "arrow = np.array(arrow()) * 2.0\n",
    "\n",
    "\n",
    "import ipywidgets as widgets\n",
    "slider = widgets.IntSlider(0, min=-1000, max=ruler.length() + 1000, step=10)\n",
    "output = widgets.Output()\n",
    "\n",
    "def show_map(range_meters):\n",
    "    T_ecef_frenet = ruler.local_frame(range_meters)\n",
    "    ecef = (T_ecef_frenet[:3, :3] @ arrow.T + T_ecef_frenet[:3, 3][:, np.newaxis]).T\n",
    "    llas = ecef2lla(ecef)\n",
    "    return show_geojson(geojson={'type': 'FeatureCollection', 'features': [\n",
    "        {\n",
    "            'type': 'Feature',\n",
    "            'geometry': {'type': 'LineString', 'coordinates': beauty_feet},\n",
    "            'properties': {'distance': distance},\n",
    "        },\n",
    "        {\n",
    "            'type': 'Feature',\n",
    "            'geometry': {'type': 'LineString', 'coordinates': llas.tolist()},\n",
    "            'properties': {},\n",
    "        },\n",
    "    ]}, zoom=13, center=[120.735122, 31.4213], layout=Layout(width='80%', height='800px'))\n",
    "\n",
    "def handle_slider_change(change):\n",
    "    with output:\n",
    "        output.clear_output()\n",
    "        display(show_map(range_meters=change.new))\n",
    "slider.observe(handle_slider_change, names='value')\n",
    "display(slider, output)"
   ]
  },
  {
   "cell_type": "code",
   "execution_count": 10,
   "id": "8c34ebc9-511c-4701-b72f-5503a4ee0277",
   "metadata": {},
   "outputs": [
    {
     "name": "stdout",
     "output_type": "stream",
     "text": [
      "[120.75300263  31.45626373   0.        ]\n",
      "[120.74827946  31.4482048    0.        ]\n",
      "(array([120.74827946,  31.4482048 ,   0.        ]), array([-0.44895912, -0.8935523 ,  0.        ]))\n"
     ]
    }
   ],
   "source": [
    "print(ruler.extended_along(-1000)) # backwards 1km\n",
    "print(ruler.at(0)) # start point\n",
    "print(ruler.arrow(0)) # start point, direction"
   ]
  },
  {
   "cell_type": "code",
   "execution_count": 11,
   "id": "e81d7c8d-9dc2-4753-9963-91fe9705d873",
   "metadata": {},
   "outputs": [
    {
     "name": "stdout",
     "output_type": "stream",
     "text": [
      "[  0. 100. 200. 400. 800.]\n",
      "[[120.74827946  31.4482048    0.        ]\n",
      " [120.74780714  31.4473989    0.        ]\n",
      " [120.74733483  31.44659301   0.        ]\n",
      " [120.74639019  31.44498122   0.        ]\n",
      " [120.74740356  31.44192968   0.        ]]\n",
      "[[-0.44895912 -0.8935523   0.        ]\n",
      " [-0.44895912 -0.8935523   0.        ]\n",
      " [-0.44895912 -0.8935523   0.        ]\n",
      " [-0.44895912 -0.8935523   0.        ]\n",
      " [-0.52731437 -0.84967026  0.        ]]\n"
     ]
    }
   ],
   "source": [
    "ranges, llas, dirs = ruler.arrows([0, 100, 200, 400, 800])\n",
    "print(ranges)\n",
    "print(llas)\n",
    "print(dirs)"
   ]
  },
  {
   "cell_type": "code",
   "execution_count": 12,
   "id": "d9f6c249-60aa-466f-b3b5-3302ca77563a",
   "metadata": {},
   "outputs": [
    {
     "name": "stdout",
     "output_type": "stream",
     "text": [
      "[    0.          1000.          2000.          3000.\n",
      "  4000.          5000.          6000.          7000.\n",
      "  8000.          9000.         10000.         11000.\n",
      " 12000.         13000.         14000.         15000.\n",
      " 16000.         17000.         18000.         18042.97023788]\n",
      "[[120.74827946  31.4482048    0.        ]\n",
      " [120.74629406  31.44039705   0.        ]\n",
      " [120.74078953  31.43271179   0.        ]\n",
      " [120.73666944  31.42443904   0.        ]\n",
      " [120.72958413  31.41803757   0.        ]\n",
      " [120.72009793  31.4147084    0.        ]\n",
      " [120.71220568  31.40966804   0.        ]\n",
      " [120.71356767  31.40105439   0.        ]\n",
      " [120.71062071  31.39242553   0.        ]\n",
      " [120.71571171  31.38921157   0.        ]\n",
      " [120.71645226  31.39704258   0.        ]\n",
      " [120.72261496  31.40435211   0.        ]\n",
      " [120.72877765  31.41166164   0.        ]\n",
      " [120.73494035  31.41897118   0.        ]\n",
      " [120.74329043  31.42397484   0.        ]\n",
      " [120.75018355  31.42947728   0.        ]\n",
      " [120.75664085  31.43659745   0.        ]\n",
      " [120.76096841  31.4442374    0.        ]\n",
      " [120.75149658  31.44816232   0.        ]\n",
      " [120.75108957  31.44833097   0.        ]]\n",
      "[[-4.48959124e-001 -8.93552296e-001  0.00000000e+000]\n",
      " [-5.27314371e-001 -8.49670262e-001  0.00000000e+000]\n",
      " [-5.01494429e-001 -8.65160874e-001  0.00000000e+000]\n",
      " [-3.52562578e-001 -9.35788239e-001  0.00000000e+000]\n",
      " [-8.18209916e-001 -5.74919589e-001  0.00000000e+000]\n",
      " [-9.67122552e-001 -2.54310772e-001  0.00000000e+000]\n",
      " [-5.56429356e-001 -8.30894922e-001  0.00000000e+000]\n",
      " [-2.89559599e-001 -9.57159986e-001  0.00000000e+000]\n",
      " [ 3.72761426e-001 -9.27927217e-001  0.00000000e+000]\n",
      " [ 4.48741128e-001  8.93661793e-001  0.00000000e+000]\n",
      " [ 5.85793193e-001  8.10460570e-001  0.00000000e+000]\n",
      " [ 5.85793193e-001  8.10460570e-001  0.00000000e+000]\n",
      " [ 5.85793193e-001  8.10460570e-001  0.00000000e+000]\n",
      " [ 5.85793193e-001  8.10460570e-001  0.00000000e+000]\n",
      " [ 9.91676932e-001  1.28751166e-001  0.00000000e+000]\n",
      " [ 6.13796938e-001  7.89463944e-001  0.00000000e+000]\n",
      " [ 6.13796938e-001  7.89463944e-001  0.00000000e+000]\n",
      " [-9.00341699e-001  4.35183669e-001  0.00000000e+000]\n",
      " [-9.00341699e-001  4.35183669e-001  0.00000000e+000]\n",
      " [-9.00341699e-001  4.35183669e-001  6.92939222e-310]]\n"
     ]
    }
   ],
   "source": [
    "ranges, llas, dirs = ruler.arrows(1000) # every 1km\n",
    "print(ranges)\n",
    "print(llas)\n",
    "print(dirs)"
   ]
  },
  {
   "cell_type": "code",
   "execution_count": null,
   "id": "fb338362-d766-45e1-a66c-77f7fb3037c0",
   "metadata": {},
   "outputs": [],
   "source": []
  },
  {
   "cell_type": "code",
   "execution_count": 13,
   "id": "5a331874-a2f9-4ada-878a-bb687b405c8e",
   "metadata": {},
   "outputs": [],
   "source": [
    "import k3d\n",
    "import numpy as np"
   ]
  },
  {
   "cell_type": "code",
   "execution_count": 14,
   "id": "836f2115-45c8-4be7-94ac-c4d95a161cae",
   "metadata": {},
   "outputs": [],
   "source": [
    "# from pybind11_geobuf import Decoder, Encoder\n",
    "\n",
    "# encoder = Encoder(max_precision=int(10**8))\n",
    "# encoder.encode(geojson='cloverleaf.json', geobuf='cloverleaf.pbf')\n",
    "\n",
    "# decoder = Decoder()\n",
    "# decoder.decode(geobuf='cloverleaf.pbf', geojson='cloverleaf.pbf.json', indent=True, sort_keys=True)"
   ]
  },
  {
   "cell_type": "code",
   "execution_count": 15,
   "id": "8867c35b-003f-4ce8-91a8-241430cdd885",
   "metadata": {},
   "outputs": [
    {
     "data": {
      "application/vnd.jupyter.widget-view+json": {
       "model_id": "601a79e0d8504bf8bda08e758284f4e6",
       "version_major": 2,
       "version_minor": 0
      },
      "text/plain": [
       "Map(center=[31.32049390261476, 120.68722507964208], controls=(ZoomControl(options=['position', 'zoom_in_text',…"
      ]
     },
     "metadata": {},
     "output_type": "display_data"
    }
   ],
   "source": [
    "import json\n",
    "with open('cloverleaf.pbf.json') as f:\n",
    "    geojson = json.load(f)\n",
    "show_geojson(geojson=geojson, basemap=basemaps.Gaode.Normal, zoom=16)"
   ]
  },
  {
   "cell_type": "code",
   "execution_count": 16,
   "id": "d694bf51-c414-405d-9d0c-081693522e53",
   "metadata": {},
   "outputs": [
    {
     "name": "stdout",
     "output_type": "stream",
     "text": [
      "#polylines: 808\n"
     ]
    }
   ],
   "source": [
    "polylines = [f['geometry']['coordinates'] for f in geojson['features'] if f['properties'].get('type') == 'lane_border']\n",
    "print(f'#polylines: {len(polylines)}')"
   ]
  },
  {
   "cell_type": "code",
   "execution_count": 17,
   "id": "2968f866-1038-4c2a-8c82-97fd46666e46",
   "metadata": {},
   "outputs": [
    {
     "name": "stdout",
     "output_type": "stream",
     "text": [
      "#polylines: 113 (filter by bbox)\n"
     ]
    }
   ],
   "source": [
    "# filter out some polylines, for faster visualization\n",
    "from shapely import Polygon, LineString\n",
    "\n",
    "bbox = [[120.68778, 31.31983], [120.68778, 31.31827], [120.68933, 31.31827], [120.68933, 31.31983], [120.68778, 31.31983]]\n",
    "polygon = Polygon(bbox)\n",
    "polylines = [p for p in polylines if not polygon.disjoint(LineString(p))]\n",
    "print(f'#polylines: {len(polylines)} (filter by bbox)')"
   ]
  },
  {
   "cell_type": "code",
   "execution_count": 18,
   "id": "18030253-85df-442e-a6cc-7452ffe44084",
   "metadata": {},
   "outputs": [],
   "source": [
    "# convert to ENU\n",
    "from polyline_ruler.tf import lla2enu\n",
    "anchor = polylines[0][0]\n",
    "polylines = [lla2enu(llas, anchor_lla=anchor).astype(np.float32) for llas in polylines]"
   ]
  },
  {
   "cell_type": "code",
   "execution_count": 19,
   "id": "db90d3f4-0ad4-41f0-a306-6e286e63d28e",
   "metadata": {},
   "outputs": [
    {
     "data": {
      "application/vnd.jupyter.widget-view+json": {
       "model_id": "8a9fc73fd8a94e37a9adaee29a45af33",
       "version_major": 2,
       "version_minor": 0
      },
      "text/plain": [
       "Output()"
      ]
     },
     "metadata": {},
     "output_type": "display_data"
    }
   ],
   "source": [
    "import k3d\n",
    "import numpy as np\n",
    "\n",
    "plot = k3d.plot()\n",
    "for polyline in polylines:\n",
    "    plot += k3d.line(polyline)\n",
    "\n",
    "plot.display()"
   ]
  },
  {
   "cell_type": "code",
   "execution_count": 20,
   "id": "08ab3403-aa8f-487e-aa64-35ae9e7b7e81",
   "metadata": {},
   "outputs": [
    {
     "name": "stdout",
     "output_type": "stream",
     "text": [
      "{'geometry': {'coordinates': [[120.68743528, 31.3198304, 3.403], [120.68749578, 31.3198145, 3.693], [120.68754678, 31.3197994, 3.932], [120.68759647, 31.3197833, 4.163], [120.68764497, 31.3197662, 4.387], [120.68769227, 31.3197481, 4.608], [120.68773856, 31.3197292, 4.826], [120.68781206, 31.3196965, 5.185], [120.68786916, 31.3196683, 5.479], [120.68794345, 31.3196281, 5.869], [120.68799645, 31.3195969, 6.141], [120.68802185, 31.3195811, 6.264], [120.68809194, 31.3195345, 6.561], [120.68813924, 31.3194999, 6.704], [120.68820293, 31.3194497, 6.84], [120.68826313, 31.319398, 6.907], [120.68830553, 31.3193585, 6.915], [120.68835772, 31.3193056, 6.875], [120.68841782, 31.3192382, 6.732], [120.68845902, 31.3191888, 6.559]], 'type': 'LineString'}, 'properties': {'id': 'w1268', 'length': 123.181, 'stroke': '#ffffff', 'type': 'lane_border'}, 'type': 'Feature'}\n",
      "[[-185.22038027  208.81189271    2.269     ]\n",
      " [-179.46163204  207.04898108    2.559     ]\n",
      " [-174.60715006  205.37476941    2.798     ]\n",
      " [-169.87736164  203.5896828     3.029     ]\n",
      " [-165.26084446  201.69372124    3.253     ]\n",
      " [-160.75855039  199.68688473    3.474     ]\n",
      " [-156.3523941   197.59134827    3.692     ]\n",
      " [-149.3562289   193.96573757    4.051     ]\n",
      " [-143.9211128   190.83906412    4.345     ]\n",
      " [-136.84975071  186.38189133    4.735     ]\n",
      " [-131.80489689  182.92259304    5.007     ]\n",
      " [-129.3871745   181.17076891    5.13      ]\n",
      " [-122.71559328  176.00399647    5.427     ]\n",
      " [-118.21329921  172.16772338    5.57      ]\n",
      " [-112.15090789  166.60180114    5.706     ]\n",
      " [-106.42071544  160.86956648    5.773     ]\n",
      " [-102.38483238  156.49000615    5.781     ]\n",
      " [ -97.41707915  150.62472156    5.741     ]\n",
      " [ -91.69640529  143.15175027    5.598     ]\n",
      " [ -87.77474534  137.67452798    5.425     ]]\n",
      "123.1789731671867\n"
     ]
    },
    {
     "data": {
      "application/vnd.jupyter.widget-view+json": {
       "model_id": "8e16bb442b3a416a8dfbb87afe3a8243",
       "version_major": 2,
       "version_minor": 0
      },
      "text/plain": [
       "Output()"
      ]
     },
     "metadata": {},
     "output_type": "display_data"
    }
   ],
   "source": [
    "id2feature = {f['properties']['id']: f for f in geojson['features']}\n",
    "\n",
    "left_lane_border = id2feature.get('w1268')\n",
    "print(left_lane_border)\n",
    "\n",
    "coords = lla2enu(left_lane_border['geometry']['coordinates'], anchor_lla=anchor)\n",
    "print(coords)\n",
    "ruler = PolylineRuler(coords)\n",
    "print(ruler.length())\n",
    "scanlines = []\n",
    "for r in np.arange(0, ruler.length(), 10):\n",
    "    ls = ruler.scanline(range=r, min=-10, max=10)\n",
    "    scanlines.append(ls)\n",
    "    \n",
    "plot = k3d.plot()\n",
    "for polyline in polylines:\n",
    "    plot += k3d.line(polyline)\n",
    "for line in scanlines:\n",
    "    plot += k3d.line(line, color=0xff0000)\n",
    "plot.display()"
   ]
  },
  {
   "cell_type": "code",
   "execution_count": null,
   "id": "93e40a08-e827-4ae7-9536-8458b7f5609a",
   "metadata": {},
   "outputs": [],
   "source": []
  }
 ],
 "metadata": {
  "kernelspec": {
   "display_name": "Python 3 (ipykernel)",
   "language": "python",
   "name": "python3"
  },
  "language_info": {
   "codemirror_mode": {
    "name": "ipython",
    "version": 3
   },
   "file_extension": ".py",
   "mimetype": "text/x-python",
   "name": "python",
   "nbconvert_exporter": "python",
   "pygments_lexer": "ipython3",
   "version": "3.9.13"
  }
 },
 "nbformat": 4,
 "nbformat_minor": 5
}
