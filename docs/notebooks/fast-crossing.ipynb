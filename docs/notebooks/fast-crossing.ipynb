{
 "cells": [
  {
   "cell_type": "code",
   "execution_count": 1,
   "id": "5e20c476-21f1-45d2-8d43-76ae3ac3e371",
   "metadata": {},
   "outputs": [],
   "source": [
    "import json\n",
    "import numpy as np\n",
    "\n",
    "with open('cloverleaf.pbf.json') as f:\n",
    "    geojson = json.load(f)"
   ]
  },
  {
   "cell_type": "code",
   "execution_count": 2,
   "id": "8ec6646c-a11c-4931-a763-5759ecf17d0c",
   "metadata": {},
   "outputs": [
    {
     "name": "stdout",
     "output_type": "stream",
     "text": [
      "#polylines: 808\n"
     ]
    }
   ],
   "source": [
    "polylines = [f['geometry']['coordinates'] for f in geojson['features'] if f['properties'].get('type') == 'lane_border']\n",
    "print(f'#polylines: {len(polylines)}')\n",
    "\n",
    "# convert to ENU\n",
    "from polyline_ruler.tf import lla2enu\n",
    "anchor = polylines[0][0]\n",
    "polylines = [lla2enu(llas, anchor_lla=anchor).astype(np.float32) for llas in polylines]"
   ]
  },
  {
   "cell_type": "code",
   "execution_count": 3,
   "id": "93b28138-823d-4b7e-84dd-d6cd835aa819",
   "metadata": {},
   "outputs": [],
   "source": [
    "from fast_crossing import FastCrossing\n",
    "\n",
    "fc = FastCrossing()\n",
    "for line in polylines:\n",
    "    fc.add_polyline(line)\n",
    "fc.finish()"
   ]
  },
  {
   "cell_type": "code",
   "execution_count": 4,
   "id": "586a385a-24c7-4e84-ac0f-26289b9a92a7",
   "metadata": {},
   "outputs": [],
   "source": [
    "intersections = fc.intersections()"
   ]
  },
  {
   "cell_type": "code",
   "execution_count": 5,
   "id": "10be3dce-a524-4035-9fc9-27582b0c1724",
   "metadata": {},
   "outputs": [
    {
     "name": "stdout",
     "output_type": "stream",
     "text": [
      "1042\n",
      "(array([0., 0.]), array([0., 1.]), array([0, 0], dtype=int32), array([312,   1], dtype=int32))\n",
      "poles\n",
      "#poles: 239\n"
     ]
    }
   ],
   "source": [
    "print(len(intersections))\n",
    "print(intersections[0]) # intersection point, (t, s), (polyline_idx, segment_idx), (polyline_idx, segment_idx), \n",
    "\n",
    "print('poles')\n",
    "poles = []\n",
    "for inter in intersections:\n",
    "    xy, (t, s), (poly1, seg1), (poly2, seg2) = inter\n",
    "    if (t, s) in ((0, 0), (0, 1), (1, 0), (1, 1)):\n",
    "        continue\n",
    "    xyz1 = fc.coordinates(poly1, seg1, t)\n",
    "    xyz2 = fc.coordinates(poly2, seg2, s)\n",
    "    if np.fabs(xyz1[2] - xyz2[2]) < 1e-3:\n",
    "        continue\n",
    "    # print(inter)\n",
    "    # print(xy, (t, s))\n",
    "    # print(xyz1)\n",
    "    # print(xyz2)\n",
    "    poles.append([xyz1, xyz2])\n",
    "print(f'#poles: {len(poles)}')\n",
    "    "
   ]
  },
  {
   "cell_type": "code",
   "execution_count": 6,
   "id": "492f3655-e0dd-403d-b11f-e447e92b303d",
   "metadata": {},
   "outputs": [
    {
     "data": {
      "application/vnd.jupyter.widget-view+json": {
       "model_id": "90d264c0e1174a3fae957c7a19372cbd",
       "version_major": 2,
       "version_minor": 0
      },
      "text/plain": [
       "Output()"
      ]
     },
     "metadata": {},
     "output_type": "display_data"
    }
   ],
   "source": [
    "import k3d\n",
    "import numpy as np\n",
    "\n",
    "plot = k3d.plot()\n",
    "for polyline in polylines:\n",
    "    plot += k3d.line(polyline)\n",
    "for line in poles:\n",
    "    plot += k3d.line(line, color=0xff0000)\n",
    "    \n",
    "plot.display()"
   ]
  },
  {
   "cell_type": "code",
   "execution_count": null,
   "id": "926d853f-31d9-4877-94b9-a0f56ee961ab",
   "metadata": {},
   "outputs": [],
   "source": []
  }
 ],
 "metadata": {
  "kernelspec": {
   "display_name": "Python 3 (ipykernel)",
   "language": "python",
   "name": "python3"
  },
  "language_info": {
   "codemirror_mode": {
    "name": "ipython",
    "version": 3
   },
   "file_extension": ".py",
   "mimetype": "text/x-python",
   "name": "python",
   "nbconvert_exporter": "python",
   "pygments_lexer": "ipython3",
   "version": "3.9.13"
  }
 },
 "nbformat": 4,
 "nbformat_minor": 5
}
