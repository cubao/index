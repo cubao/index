{
 "cells": [
  {
   "cell_type": "code",
   "execution_count": 1,
   "id": "5e20c476-21f1-45d2-8d43-76ae3ac3e371",
   "metadata": {},
   "outputs": [
    {
     "name": "stdout",
     "output_type": "stream",
     "text": [
      "#polylines: 808\n"
     ]
    }
   ],
   "source": [
    "import json\n",
    "import numpy as np\n",
    "\n",
    "with open('cloverleaf.pbf.json') as f:\n",
    "    geojson = json.load(f)\n",
    "\n",
    "polylines = [f['geometry']['coordinates'] for f in geojson['features'] if f['properties'].get('type') == 'lane_border']\n",
    "print(f'#polylines: {len(polylines)}')"
   ]
  },
  {
   "cell_type": "code",
   "execution_count": 2,
   "id": "eabb66dd-6aa1-4605-87eb-89cfa83d0210",
   "metadata": {},
   "outputs": [
    {
     "name": "stdout",
     "output_type": "stream",
     "text": [
      "#polylines: 60 (filter by bbox)\n"
     ]
    }
   ],
   "source": [
    "# filter out some polylines\n",
    "# https://geojson.io/#data=data:text/x-url,https%3A%2F%2Fraw.githubusercontent.com%2Fcubao%2Findex%2Fmaster%2Fdocs%2Fnotebooks%2Fcloverleaf.pbf.json\n",
    "\n",
    "big_bbox = [\n",
    "    [120.68710518619417, 31.322672789303823],\n",
    "    [120.68710518619417, 31.32093957974284],\n",
    "    [120.68941884319116, 31.32093957974284],\n",
    "    [120.68941884319116, 31.322672789303823],\n",
    "    [120.68710518619417, 31.322672789303823],\n",
    "]\n",
    "small_bbox = [\n",
    "    [120.68575783266118, 31.320826179826653],\n",
    "    [120.68575783266118, 31.320254055318017],\n",
    "    [120.68652496796722, 31.320254055318017],\n",
    "    [120.68652496796722, 31.320826179826653],\n",
    "    [120.68575783266118, 31.320826179826653],\n",
    "]\n",
    "bbox = small_bbox\n",
    "\n",
    "from shapely.geometry import Polygon, LineString\n",
    "polygon = Polygon(bbox)\n",
    "polylines = [p for p in polylines if not polygon.disjoint(LineString(p))]\n",
    "print(f'#polylines: {len(polylines)} (filter by bbox)')"
   ]
  },
  {
   "cell_type": "code",
   "execution_count": 3,
   "id": "8ec6646c-a11c-4931-a763-5759ecf17d0c",
   "metadata": {},
   "outputs": [],
   "source": [
    "# convert to ENU\n",
    "from polyline_ruler.tf import lla2enu\n",
    "anchor = polylines[0][0]\n",
    "polylines = [lla2enu(llas, anchor_lla=anchor).astype(np.float32) for llas in polylines]"
   ]
  },
  {
   "cell_type": "code",
   "execution_count": 4,
   "id": "93b28138-823d-4b7e-84dd-d6cd835aa819",
   "metadata": {},
   "outputs": [],
   "source": [
    "from fast_crossing import FastCrossing\n",
    "\n",
    "fc = FastCrossing()\n",
    "for line in polylines:\n",
    "    fc.add_polyline(line)\n",
    "fc.finish()"
   ]
  },
  {
   "cell_type": "code",
   "execution_count": 5,
   "id": "586a385a-24c7-4e84-ac0f-26289b9a92a7",
   "metadata": {},
   "outputs": [
    {
     "name": "stdout",
     "output_type": "stream",
     "text": [
      "27\n",
      "(array([-50.93553133, -11.73873725]), array([0.50657666, 0.76975261]), array([13,  0], dtype=int32), array([41,  0], dtype=int32))\n"
     ]
    }
   ],
   "source": [
    "intersections = fc.intersections(z_offset_range=[1e-3, np.inf])\n",
    "print(len(intersections))\n",
    "print(intersections[0]) # intersection point, (t, s), (polyline_idx, segment_idx), (polyline_idx, segment_idx), "
   ]
  },
  {
   "cell_type": "code",
   "execution_count": 6,
   "id": "10be3dce-a524-4035-9fc9-27582b0c1724",
   "metadata": {},
   "outputs": [
    {
     "name": "stdout",
     "output_type": "stream",
     "text": [
      "#poles: 27\n"
     ]
    }
   ],
   "source": [
    "poles = []\n",
    "for inter in intersections:\n",
    "    xy, (t, s), (poly1, seg1), (poly2, seg2) = inter\n",
    "    xyz1 = fc.coordinates(poly1, seg1, t)\n",
    "    xyz2 = fc.coordinates(poly2, seg2, s)\n",
    "    poles.append([xyz1, xyz2])\n",
    "print(f'#poles: {len(poles)}')\n",
    "    "
   ]
  },
  {
   "cell_type": "code",
   "execution_count": 7,
   "id": "492f3655-e0dd-403d-b11f-e447e92b303d",
   "metadata": {},
   "outputs": [
    {
     "data": {
      "application/vnd.jupyter.widget-view+json": {
       "model_id": "e9b6fceb21bd47148a9e08e3c2000ca5",
       "version_major": 2,
       "version_minor": 0
      },
      "text/plain": [
       "Output()"
      ]
     },
     "metadata": {},
     "output_type": "display_data"
    }
   ],
   "source": [
    "import k3d\n",
    "import numpy as np\n",
    "\n",
    "plot = k3d.plot()\n",
    "for polyline in polylines:\n",
    "    plot += k3d.line(polyline)\n",
    "for line in poles:\n",
    "    plot += k3d.line(line, color=0xff0000)\n",
    "    \n",
    "plot.display()"
   ]
  },
  {
   "cell_type": "code",
   "execution_count": null,
   "id": "926d853f-31d9-4877-94b9-a0f56ee961ab",
   "metadata": {},
   "outputs": [],
   "source": []
  }
 ],
 "metadata": {
  "kernelspec": {
   "display_name": "Python 3 (ipykernel)",
   "language": "python",
   "name": "python3"
  },
  "language_info": {
   "codemirror_mode": {
    "name": "ipython",
    "version": 3
   },
   "file_extension": ".py",
   "mimetype": "text/x-python",
   "name": "python",
   "nbconvert_exporter": "python",
   "pygments_lexer": "ipython3",
   "version": "3.10.6"
  }
 },
 "nbformat": 4,
 "nbformat_minor": 5
}
